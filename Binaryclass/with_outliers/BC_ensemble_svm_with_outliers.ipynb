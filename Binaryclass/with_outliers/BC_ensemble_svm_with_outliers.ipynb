{
  "cells": [
    {
      "cell_type": "code",
      "execution_count": 1,
      "metadata": {
        "colab": {
          "base_uri": "https://localhost:8080/"
        },
        "id": "mZPga57C9fHB",
        "outputId": "8be281b5-c166-403e-e8b3-8309f7556c26"
      },
      "outputs": [
        {
          "ename": "ModuleNotFoundError",
          "evalue": "No module named 'pandas'",
          "output_type": "error",
          "traceback": [
            "\u001b[0;31m---------------------------------------------------------------------------\u001b[0m",
            "\u001b[0;31mModuleNotFoundError\u001b[0m                       Traceback (most recent call last)",
            "Cell \u001b[0;32mIn[1], line 1\u001b[0m\n\u001b[0;32m----> 1\u001b[0m \u001b[39mimport\u001b[39;00m \u001b[39mpandas\u001b[39;00m \u001b[39mas\u001b[39;00m \u001b[39mpd\u001b[39;00m\n\u001b[1;32m      2\u001b[0m \u001b[39mfrom\u001b[39;00m \u001b[39msklearn\u001b[39;00m\u001b[39m.\u001b[39;00m\u001b[39msvm\u001b[39;00m \u001b[39mimport\u001b[39;00m SVC\n\u001b[1;32m      3\u001b[0m \u001b[39mfrom\u001b[39;00m \u001b[39msklearn\u001b[39;00m\u001b[39m.\u001b[39;00m\u001b[39mmetrics\u001b[39;00m \u001b[39mimport\u001b[39;00m accuracy_score, classification_report, confusion_matrix\n",
            "\u001b[0;31mModuleNotFoundError\u001b[0m: No module named 'pandas'"
          ]
        }
      ],
      "source": [
        "import pandas as pd\n",
        "from sklearn.svm import SVC\n",
        "from sklearn.metrics import accuracy_score, classification_report, confusion_matrix\n",
        "from sklearn.preprocessing import LabelEncoder\n",
        "\n",
        "# Set the data paths\n",
        "dataset_paths = ['training_set_1_with_outliers_binary_class.csv', 'training_set_2_with_outliers_binary_class.csv', 'training_set_3_with_outliers_binary_class.csv', 'training_set_4_with_outliers_binary_class.csv', 'training_set_5_with_outliers_binary_class.csv']\n",
        "test_set_path = 'testing_set_with_outliers_binary_class.csv'\n",
        "\n",
        "# Initialize a list to store individual models\n",
        "models = []\n",
        "\n",
        "# Initialize a LabelEncoder\n",
        "label_encoder = LabelEncoder()\n",
        "\n",
        "# Loop over each dataset\n",
        "for i, dataset_path in enumerate(dataset_paths, start=1):\n",
        "    print(f\"\\nTraining on Dataset {i}\")\n",
        "\n",
        "    # Load the dataset using pandas\n",
        "    df = pd.read_csv(dataset_path)\n",
        "\n",
        "    # Extract features (X) and target variable (y)\n",
        "    X = df.drop('binary_target', axis=1)\n",
        "    y = df['binary_target']\n",
        "\n",
        "    # Encode the target variable if it contains string labels\n",
        "    y = label_encoder.fit_transform(y)\n",
        "\n",
        "    # Create an SVM model\n",
        "    model = SVC(kernel='linear', C=1.0)\n",
        "\n",
        "    # Train the model\n",
        "    model.fit(X, y)\n",
        "\n",
        "    # Append the model to the list\n",
        "    models.append(model)\n",
        "\n",
        "# Load the common test set\n",
        "common_test_df = pd.read_csv(test_set_path)\n",
        "common_X_test = common_test_df.drop('binary_target', axis=1)\n",
        "common_y_test = label_encoder.transform(common_test_df['binary_target'])\n",
        "\n",
        "# Make predictions on the common test set and calculate individual model accuracy\n",
        "predictions_test = []\n",
        "\n",
        "# Make predictions on the common test set and calculate individual model accuracy\n",
        "for i, model in enumerate(models, start=1):\n",
        "    y_pred_test = model.predict(common_X_test)\n",
        "    accuracy_model = accuracy_score(common_y_test, y_pred_test)\n",
        "    print(f\"Model {i} Accuracy: {accuracy_model * 100:.2f}%\")\n",
        "\n",
        "    predictions_test.append(y_pred_test)\n",
        "    \n",
        "# Use majority voting on the test set\n",
        "y_pred_ensemble_test = pd.DataFrame(predictions_test).mode(axis=0).iloc[0].values\n",
        "\n",
        "# Evaluate the ensemble model on the common test set\n",
        "accuracy_ensemble = accuracy_score(common_y_test, y_pred_ensemble_test)\n",
        "conf_matrix_ensemble = confusion_matrix(common_y_test, y_pred_ensemble_test)\n",
        "classification_rep_ensemble = classification_report(common_y_test, y_pred_ensemble_test)\n",
        "\n",
        "# Display results for the ensemble model on the common test set\n",
        "print(\"\\nResults for Ensemble Model on Common Test Set:\")\n",
        "print(f\"Accuracy: {accuracy_ensemble * 100:.2f}%\")\n",
        "print(\"Confusion Matrix:\")\n",
        "print(conf_matrix_ensemble)\n",
        "print(\"Classification Report:\")\n",
        "print(classification_rep_ensemble)\n"
      ]
    }
  ],
  "metadata": {
    "colab": {
      "provenance": []
    },
    "kernelspec": {
      "display_name": "Python 3",
      "name": "python3"
    },
    "language_info": {
      "codemirror_mode": {
        "name": "ipython",
        "version": 3
      },
      "file_extension": ".py",
      "mimetype": "text/x-python",
      "name": "python",
      "nbconvert_exporter": "python",
      "pygments_lexer": "ipython3",
      "version": "3.11.2"
    }
  },
  "nbformat": 4,
  "nbformat_minor": 0
}
