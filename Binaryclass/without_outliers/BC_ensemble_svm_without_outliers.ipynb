{
  "cells": [
    {
      "cell_type": "code",
      "execution_count": 3,
      "metadata": {
        "colab": {
          "base_uri": "https://localhost:8080/"
        },
        "id": "DsRITEXs9YXM",
        "outputId": "a5cd3e6c-7c02-4159-fa8c-953c08011faa"
      },
      "outputs": [
        {
          "name": "stdout",
          "output_type": "stream",
          "text": [
            "\n",
            "Training on Dataset 1\n",
            "\n",
            "Training on Dataset 2\n",
            "\n",
            "Training on Dataset 3\n",
            "\n",
            "Training on Dataset 4\n",
            "\n",
            "Training on Dataset 5\n",
            "\n",
            "Results for Ensemble Model on Common Test Set:\n",
            "Accuracy: 98.28%\n",
            "Confusion Matrix:\n",
            "[[204   7]\n",
            " [  1 254]]\n",
            "Classification Report:\n",
            "              precision    recall  f1-score   support\n",
            "\n",
            "           0       1.00      0.97      0.98       211\n",
            "           1       0.97      1.00      0.98       255\n",
            "\n",
            "    accuracy                           0.98       466\n",
            "   macro avg       0.98      0.98      0.98       466\n",
            "weighted avg       0.98      0.98      0.98       466\n",
            "\n"
          ]
        }
      ],
      "source": [
        "import pandas as pd\n",
        "from sklearn.svm import SVC\n",
        "from sklearn.metrics import accuracy_score, classification_report, confusion_matrix\n",
        "from sklearn.preprocessing import LabelEncoder\n",
        "\n",
        "# Set the data paths\n",
        "dataset_paths = ['training_set_1_without_outliers_binary_class.csv', 'training_set_2_without_outliers_binary_class.csv', 'training_set_3_without_outliers_binary_class.csv', 'training_set_4_without_outliers_binary_class.csv', 'training_set_5_without_outliers_binary_class.csv']\n",
        "test_set_path = 'testing_set_without_outliers_binary_class.csv'\n",
        "\n",
        "# Initialize a list to store individual models\n",
        "models = []\n",
        "\n",
        "# Initialize a LabelEncoder\n",
        "label_encoder = LabelEncoder()\n",
        "\n",
        "# Loop over each dataset\n",
        "for i, dataset_path in enumerate(dataset_paths, start=1):\n",
        "    print(f\"\\nTraining on Dataset {i}\")\n",
        "\n",
        "    # Load the dataset using pandas\n",
        "    df = pd.read_csv(dataset_path)\n",
        "\n",
        "    # Extract features (X) and target variable (y)\n",
        "    X = df.drop('binary_target', axis=1)\n",
        "    y = df['binary_target']\n",
        "\n",
        "    # Encode the target variable if it contains string labels\n",
        "    y = label_encoder.fit_transform(y)\n",
        "\n",
        "    # Create an SVM model\n",
        "    model = SVC(kernel='linear', C=1.0)\n",
        "\n",
        "    # Train the model\n",
        "    model.fit(X, y)\n",
        "\n",
        "    # Append the model to the list\n",
        "    models.append(model)\n",
        "\n",
        "# Load the common test set\n",
        "common_test_df = pd.read_csv(test_set_path)\n",
        "common_X_test = common_test_df.drop('binary_target', axis=1)\n",
        "common_y_test = label_encoder.transform(common_test_df['binary_target'])\n",
        "\n",
        "# Make predictions on the common test set and calculate individual model accuracy\n",
        "predictions_test = []\n",
        "\n",
        "# Make predictions on the common test set and calculate individual model accuracy\n",
        "for i, model in enumerate(models, start=1):\n",
        "    y_pred_test = model.predict(common_X_test)\n",
        "    accuracy_model = accuracy_score(common_y_test, y_pred_test)\n",
        "    print(f\"Model {i} Accuracy: {accuracy_model * 100:.2f}%\")\n",
        "\n",
        "    predictions_test.append(y_pred_test)\n",
        "    \n",
        "# Use majority voting on the test set\n",
        "y_pred_ensemble_test = pd.DataFrame(predictions_test).mode(axis=0).iloc[0].values\n",
        "\n",
        "# Evaluate the ensemble model on the common test set\n",
        "accuracy_ensemble = accuracy_score(common_y_test, y_pred_ensemble_test)\n",
        "conf_matrix_ensemble = confusion_matrix(common_y_test, y_pred_ensemble_test)\n",
        "classification_rep_ensemble = classification_report(common_y_test, y_pred_ensemble_test)\n",
        "\n",
        "# Display results for the ensemble model on the common test set\n",
        "print(\"\\nResults for Ensemble Model on Common Test Set:\")\n",
        "print(f\"Accuracy: {accuracy_ensemble * 100:.2f}%\")\n",
        "print(\"Confusion Matrix:\")\n",
        "print(conf_matrix_ensemble)\n",
        "print(\"Classification Report:\")\n",
        "print(classification_rep_ensemble)"
      ]
    }
  ],
  "metadata": {
    "colab": {
      "provenance": []
    },
    "kernelspec": {
      "display_name": "Python 3",
      "name": "python3"
    },
    "language_info": {
      "name": "python"
    }
  },
  "nbformat": 4,
  "nbformat_minor": 0
}
