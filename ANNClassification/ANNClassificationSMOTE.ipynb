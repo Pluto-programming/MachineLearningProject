{
 "cells": [
  {
   "cell_type": "markdown",
   "id": "4ccfb9c5",
   "metadata": {},
   "source": [
    "# Import Libraries"
   ]
  },
  {
   "cell_type": "code",
   "execution_count": 1,
   "id": "61f64228",
   "metadata": {},
   "outputs": [],
   "source": [
    "import numpy as np\n",
    "import pandas as pd\n",
    "import matplotlib.pyplot as plt\n",
    "from sklearn.neural_network import MLPClassifier\n",
    "from sklearn.model_selection import train_test_split\n",
    "from sklearn.preprocessing import StandardScaler\n",
    "from sklearn.metrics import accuracy_score"
   ]
  },
  {
   "cell_type": "markdown",
   "id": "41a6e248",
   "metadata": {},
   "source": [
    "# Read CSV Files"
   ]
  },
  {
   "cell_type": "code",
   "execution_count": 5,
   "id": "f19a03b2",
   "metadata": {},
   "outputs": [],
   "source": [
    "DS_no_outliers = pd.read_csv(\"../Dataset_without_outliers.csv\")\n",
    "DS_SMOTE = pd.read_csv(\"../Dataset_SMOTE_BC.csv\")\n",
    "DS_SMOTE_WithOutliers = pd.read_csv(\"../Data_with_SMOTE.csv\")"
   ]
  },
  {
   "cell_type": "markdown",
   "id": "55040c2f",
   "metadata": {},
   "source": [
    "# Split Into X and Y"
   ]
  },
  {
   "cell_type": "code",
   "execution_count": 6,
   "id": "410934b4",
   "metadata": {},
   "outputs": [],
   "source": [
    "X_NoOutliers = DS_no_outliers.iloc[:,0:21]\n",
    "Y_NoOutliers = DS_no_outliers.iloc[:,-1]\n",
    "\n",
    "X_SMOTE = DS_SMOTE.iloc[:,0:21]\n",
    "X_SMOTE_IMPORTANT_FEATURES = X_SMOTE[[\"baseline value\", \"accelerations\", \"uterine_contractions\", \"prolongued_decelerations\", \"abnormal_short_term_variability\", \"mean_value_of_short_term_variability\", \"percentage_of_time_with_abnormal_long_term_variability\", \"histogram_mode\", \"histogram_mean\", \"histogram_median\"]]\n",
    "Y_SMOTE_MC = DS_SMOTE.iloc[:,-2]\n",
    "Y_SMOTE_BC = DS_SMOTE.iloc[:,-1]\n",
    "\n",
    "X_SMOTE_WithOutliers = DS_SMOTE_WithOutliers.iloc[:,0:21]\n",
    "Y_SMOTE_WithOutliers = DS_SMOTE_WithOutliers.iloc[:,-1]"
   ]
  },
  {
   "cell_type": "markdown",
   "id": "18593da9",
   "metadata": {},
   "source": [
    "# Split Into Test/Train"
   ]
  },
  {
   "cell_type": "code",
   "execution_count": 7,
   "id": "6c108d68",
   "metadata": {},
   "outputs": [],
   "source": [
    "X_NO_train, X_NO_test, Y_NO_train, Y_NO_test = train_test_split(X_NoOutliers, Y_NoOutliers, test_size=0.3, random_state=0)\n",
    "X_SMOTE_MC_train, X_SMOTE_MC_test, Y_SMOTE_MC_train, Y_SMOTE_MC_test = train_test_split(X_SMOTE, Y_SMOTE_MC, test_size=0.3, random_state=0)\n",
    "X_SMOTE_BC_train, X_SMOTE_BC_test, Y_SMOTE_BC_train, Y_SMOTE_BC_test = train_test_split(X_SMOTE, Y_SMOTE_BC, test_size=0.3, random_state=0)\n",
    "X_SMOTE_MCIF_train, X_SMOTE_MCIF_test, Y_SMOTE_MCIF_train, Y_SMOTE_MCIF_test = train_test_split(X_SMOTE_IMPORTANT_FEATURES, Y_SMOTE_MC, test_size=0.3, random_state=0)\n",
    "X_SMOTE_BCIF_train, X_SMOTE_BCIF_test, Y_SMOTE_BCIF_train, Y_SMOTE_BCIF_test = train_test_split(X_SMOTE_IMPORTANT_FEATURES, Y_SMOTE_BC, test_size=0.3, random_state=0)\n",
    "X_SMOTE_WithOutliers_train, X_SMOTE_WithOutliers_test, Y_SMOTE_WithOutliers_train, Y_SMOTE_WithOutliers_test = train_test_split(X_SMOTE_WithOutliers, Y_SMOTE_WithOutliers, test_size=0.3, random_state=0)\n"
   ]
  },
  {
   "cell_type": "markdown",
   "id": "fec0e1bb",
   "metadata": {},
   "source": [
    "# Scale Data"
   ]
  },
  {
   "cell_type": "code",
   "execution_count": 8,
   "id": "895fef05",
   "metadata": {},
   "outputs": [],
   "source": [
    "scaler = StandardScaler()\n",
    "\n",
    "scaler.fit(X_SMOTE_MC_train)\n",
    "X_SMOTE_MC_train = scaler.transform(X_SMOTE_MC_train)\n",
    "X_SMOTE_MC_test = scaler.transform(X_SMOTE_MC_test)\n",
    "\n",
    "scaler.fit(X_SMOTE_BC_train)\n",
    "X_SMOTE_BC_train = scaler.transform(X_SMOTE_BC_train)\n",
    "X_SMOTE_BC_test = scaler.transform(X_SMOTE_BC_test)\n",
    "\n",
    "scaler.fit(X_SMOTE_MCIF_train)\n",
    "X_SMOTE_MCIF_train = scaler.transform(X_SMOTE_MCIF_train)\n",
    "X_SMOTE_MCIF_test = scaler.transform(X_SMOTE_MCIF_test)\n",
    "\n",
    "scaler.fit(X_SMOTE_BCIF_train)\n",
    "X_SMOTE_BCIF_train = scaler.transform(X_SMOTE_BCIF_train)\n",
    "X_SMOTE_BCIF_test = scaler.transform(X_SMOTE_BCIF_test)\n",
    "\n",
    "scaler.fit(X_SMOTE_WithOutliers_train)\n",
    "X_SMOTE_WithOutliers_train = scaler.transform(X_SMOTE_WithOutliers_train)\n",
    "X_SMOTE_WithOutliers_test = scaler.transform(X_SMOTE_WithOutliers_test)"
   ]
  },
  {
   "cell_type": "markdown",
   "id": "52b2eb67",
   "metadata": {},
   "source": [
    "# Create Models"
   ]
  },
  {
   "cell_type": "code",
   "execution_count": 9,
   "id": "f8202682",
   "metadata": {},
   "outputs": [],
   "source": [
    "ANN_NoOutliers = MLPClassifier(solver='adam', alpha=1e-4, hidden_layer_sizes=(5,2), random_state=1)\n",
    "ANN_SMOTE_MC = MLPClassifier(solver='adam', alpha=1e-4, hidden_layer_sizes=(10,3), random_state=1, max_iter=1000)\n",
    "ANN_SMOTE_BC = MLPClassifier(solver='adam', alpha=1e-4, hidden_layer_sizes=(10,3), random_state=1, max_iter=1000)\n",
    "ANN_SMOTE_MCIF = MLPClassifier(solver='adam', alpha=1e-4, hidden_layer_sizes=(10,3), random_state=1, max_iter=1000)\n",
    "ANN_SMOTE_BCIF = MLPClassifier(solver='adam', alpha=1e-4, hidden_layer_sizes=(10,3), random_state=1, max_iter=1000)\n",
    "ANN_SMOTE_WithOutliers = MLPClassifier(solver='adam', alpha=1e-4, hidden_layer_sizes=(10,3), random_state=1, max_iter=1000)"
   ]
  },
  {
   "cell_type": "markdown",
   "id": "37d5651b",
   "metadata": {},
   "source": [
    "# Train on data with no oversampling"
   ]
  },
  {
   "cell_type": "code",
   "execution_count": 10,
   "id": "3e526612",
   "metadata": {},
   "outputs": [
    {
     "data": {
      "text/plain": [
       "MLPClassifier(hidden_layer_sizes=(10, 3), max_iter=1000, random_state=1)"
      ]
     },
     "execution_count": 10,
     "metadata": {},
     "output_type": "execute_result"
    }
   ],
   "source": [
    "ANN_SMOTE_MC.fit(X_SMOTE_MC_train, Y_SMOTE_MC_train)\n",
    "ANN_SMOTE_BC.fit(X_SMOTE_BC_train, Y_SMOTE_BC_train)\n",
    "ANN_SMOTE_MCIF.fit(X_SMOTE_MCIF_train, Y_SMOTE_MCIF_train)\n",
    "ANN_SMOTE_BCIF.fit(X_SMOTE_BCIF_train, Y_SMOTE_BCIF_train)\n",
    "ANN_SMOTE_WithOutliers.fit(X_SMOTE_WithOutliers_train, Y_SMOTE_WithOutliers_train)"
   ]
  },
  {
   "cell_type": "markdown",
   "id": "aa1e15ae",
   "metadata": {},
   "source": [
    "# Make Predictions with on test data"
   ]
  },
  {
   "cell_type": "code",
   "execution_count": 11,
   "id": "3664adf3",
   "metadata": {},
   "outputs": [],
   "source": [
    "SMOTE_MC_predictions = ANN_SMOTE_MC.predict(X_SMOTE_MC_test)\n",
    "SMOTE_BC_predictions = ANN_SMOTE_BC.predict(X_SMOTE_BC_test)\n",
    "#SMOTE_MCIF_predictions = ANN_SMOTE_MCIF.predict(X_SMOTE_MCIF_test)\n",
    "#SMOTE_BCIF_predictions = ANN_SMOTE_BCIF.predict(X_SMOTE_BCIF_test)\n",
    "#SMOTE_WithOutliers_predictions = ANN_SMOTE_WithOutliers.predict(X_SMOTE_WithOutliers_test)"
   ]
  },
  {
   "cell_type": "code",
   "execution_count": 13,
   "id": "a02be3ac",
   "metadata": {},
   "outputs": [
    {
     "data": {
      "image/png": "[encoded data removed]",
      "text/plain": [
       "<Figure size 432x288 with 1 Axes>"
      ]
     },
     "metadata": {
      "needs_background": "light"
     },
     "output_type": "display_data"
    }
   ],
   "source": [
    "SMOTE_MC_acc = accuracy_score(SMOTE_MC_predictions, Y_SMOTE_MC_test)\n",
    "SMOTE_BC_acc = accuracy_score(SMOTE_BC_predictions, Y_SMOTE_BC_test)\n",
    "#SMOTE_MCIF_acc = accuracy_score(SMOTE_MCIF_predictions, Y_SMOTE_MCIF_test)\n",
    "#SMOTE_BCIF_acc = accuracy_score(SMOTE_BCIF_predictions, Y_SMOTE_BCIF_test)\n",
    "#SMOTE_WithOutliers_acc = accuracy_score(SMOTE_WithOutliers_predictions, Y_SMOTE_WithOutliers_test)\n",
    "\n",
    "fig, ax = plt.subplots()\n",
    "\n",
    "bar_names = ['MC', 'BC']\n",
    "accuracies = [SMOTE_MC_acc, SMOTE_BC_acc]\n",
    "bar_labels = ['Multiclass', 'Binary Class']\n",
    "bar_colors = ['tab:red', 'tab:blue']\n",
    "\n",
    "ax.bar(bar_names, accuracies, label=bar_labels, color=bar_colors)\n",
    "\n",
    "ax.set_ylabel(\"Model Accuracy\")\n",
    "ax.set_title(\"Accuracy of different ANN models using SMOTE Oversampling\")\n",
    "plt.ylim(.9,1.0)\n",
    "\n",
    "\n",
    "plt.show()\n"
   ]
  },
  {
   "cell_type": "code",
   "execution_count": null,
   "id": "b3e4681c",
   "metadata": {},
   "outputs": [],
   "source": []
  }
 ],
 "metadata": {
  "kernelspec": {
   "display_name": "Python 3",
   "language": "python",
   "name": "python3"
  },
  "language_info": {
   "codemirror_mode": {
    "name": "ipython",
    "version": 3
   },
   "file_extension": ".py",
   "mimetype": "text/x-python",
   "name": "python",
   "nbconvert_exporter": "python",
   "pygments_lexer": "ipython3",
   "version": "3.8.8"
  }
 },
 "nbformat": 4,
 "nbformat_minor": 5
}
