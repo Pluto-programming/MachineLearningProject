{
 "cells": [
  {
   "cell_type": "markdown",
   "id": "58048241-77dd-478a-9024-0490e4e6b3ac",
   "metadata": {},
   "source": [
    "# Import Libraries"
   ]
  },
  {
   "cell_type": "code",
   "execution_count": 2,
   "id": "1cd09f65-c0d1-487a-afec-c91c26dcc49a",
   "metadata": {},
   "outputs": [],
   "source": [
    "import numpy as np\n",
    "import pandas as pd\n",
    "import matplotlib.pyplot as plt\n",
    "from sklearn.neural_network import MLPClassifier\n",
    "from sklearn.model_selection import train_test_split\n",
    "from sklearn.preprocessing import StandardScaler, LabelEncoder\n",
    "from sklearn.metrics import accuracy_score\n",
    "from sklearn.ensemble import VotingClassifier\n",
    "from scipy import stats as st"
   ]
  },
  {
   "cell_type": "markdown",
   "id": "a6b7a754-2aae-49d3-8d98-d42c98789d61",
   "metadata": {},
   "source": [
    "# Read CSV Files"
   ]
  },
  {
   "cell_type": "code",
   "execution_count": 5,
   "id": "87caa2c7-86de-44ac-8f66-81524c3e0530",
   "metadata": {},
   "outputs": [],
   "source": [
    "#MC_test = pd.read_csv(\"Multiclass/With_Outliers/testing_set_with_outliers.csv\")\n",
    "#MC_train1 = pd.read_csv(\"Multiclass/With_Outliers/training_set_1_with_outliers.csv\")\n",
    "#MC_train2 = pd.read_csv(\"Multiclass/With_Outliers/training_set_2_with_outliers.csv\")\n",
    "#MC_train3 = pd.read_csv(\"Multiclass/With_Outliers/training_set_3_with_outliers.csv\")\n",
    "#MC_train4 = pd.read_csv(\"Multiclass/With_Outliers/training_set_4_with_outliers.csv\")\n",
    "#MC_train5 = pd.read_csv(\"Multiclass/With_Outliers/training_set_5_with_outliers.csv\")\n",
    "#MC_train6 = pd.read_csv(\"Multiclass/With_Outliers/training_set_6_with_outliers.csv\")\n",
    "#MC_train7 = pd.read_csv(\"Multiclass/With_Outliers/training_set_7_with_outliers.csv\")\n",
    "\n",
    "MC_NO_test = pd.read_csv(\"../Multiclass/Without_Outliers/testing_set_without_outliers.csv\")\n",
    "MC_NO_train1 = pd.read_csv(\"../Multiclass/Without_Outliers/training_set_1_without_outliers.csv\")\n",
    "MC_NO_train2 = pd.read_csv(\"../Multiclass/Without_Outliers/training_set_2_without_outliers.csv\")\n",
    "MC_NO_train3 = pd.read_csv(\"../Multiclass/Without_Outliers/training_set_3_without_outliers.csv\")\n",
    "MC_NO_train4 = pd.read_csv(\"../Multiclass/Without_Outliers/training_set_4_without_outliers.csv\")\n",
    "MC_NO_train5 = pd.read_csv(\"../Multiclass/Without_Outliers/training_set_5_without_outliers.csv\")\n",
    "MC_NO_train6 = pd.read_csv(\"../Multiclass/Without_Outliers/training_set_6_without_outliers.csv\")\n",
    "MC_NO_train7 = pd.read_csv(\"../Multiclass/Without_Outliers/training_set_7_without_outliers.csv\")\n",
    "\n",
    "#BC_test = pd.read_csv(\"Binaryclass/With_Outliers/testing_set_with_outliers_binary_class.csv\")\n",
    "#BC_train1 = pd.read_csv(\"Binaryclass/With_Outliers/training_set_1_with_outliers_binary_class.csv\")\n",
    "#BC_train2 = pd.read_csv(\"Binaryclass/With_Outliers/training_set_2_with_outliers_binary_class.csv\")\n",
    "#BC_train3 = pd.read_csv(\"Binaryclass/With_Outliers/training_set_3_with_outliers_binary_class.csv\")\n",
    "#BC_train4 = pd.read_csv(\"Binaryclass/With_Outliers/training_set_4_with_outliers_binary_class.csv\")\n",
    "#BC_train5 = pd.read_csv(\"Binaryclass/With_Outliers/training_set_5_with_outliers_binary_class.csv\")\n",
    "\n",
    "BC_NO_test = pd.read_csv(\"../Binaryclass/Without_Outliers/testing_set_without_outliers_binary_class.csv\")\n",
    "BC_NO_train1 = pd.read_csv(\"../Binaryclass/Without_Outliers/training_set_1_without_outliers_binary_class.csv\")\n",
    "BC_NO_train2 = pd.read_csv(\"../Binaryclass/Without_Outliers/training_set_2_without_outliers_binary_class.csv\")\n",
    "BC_NO_train3 = pd.read_csv(\"../Binaryclass/Without_Outliers/training_set_3_without_outliers_binary_class.csv\")\n",
    "BC_NO_train4 = pd.read_csv(\"../Binaryclass/Without_Outliers/training_set_4_without_outliers_binary_class.csv\")\n",
    "BC_NO_train5 = pd.read_csv(\"../Binaryclass/Without_Outliers/training_set_5_without_outliers_binary_class.csv\")"
   ]
  },
  {
   "cell_type": "markdown",
   "id": "e1dbf600-7622-4b90-9ec3-2fb67f7b0eca",
   "metadata": {},
   "source": [
    "# Split into X and Y"
   ]
  },
  {
   "cell_type": "code",
   "execution_count": 6,
   "id": "e5936ad9-e830-4996-aab7-b973d74acc17",
   "metadata": {},
   "outputs": [],
   "source": [
    "#######################################################\n",
    "# MC With Outliers\n",
    "#X_MC_test = MC_test.iloc[:,1:22]\n",
    "#X1_MC_train = MC_train1.iloc[:,1:22]\n",
    "#X2_MC_train = MC_train2.iloc[:,1:22]\n",
    "#X3_MC_train = MC_train3.iloc[:,1:22]\n",
    "#X4_MC_train = MC_train4.iloc[:,1:22]\n",
    "#X5_MC_train = MC_train5.iloc[:,1:22]\n",
    "#X6_MC_train = MC_train6.iloc[:,1:22]\n",
    "#X7_MC_train = MC_train7.iloc[:,1:22]\n",
    "\n",
    "#Y_MC_test = MC_test.iloc[:,-1]\n",
    "#Y1_MC_train = MC_train1.iloc[:,-1]\n",
    "#Y2_MC_train = MC_train2.iloc[:,-1]\n",
    "#Y3_MC_train = MC_train3.iloc[:,-1]\n",
    "#Y4_MC_train = MC_train4.iloc[:,-1]\n",
    "#Y5_MC_train = MC_train5.iloc[:,-1]\n",
    "#Y6_MC_train = MC_train6.iloc[:,-1]\n",
    "#Y7_MC_train = MC_train7.iloc[:,-1]\n",
    "\n",
    "#######################################################\n",
    "# MC Without Outliers\n",
    "X_MC_NO_test = MC_NO_test.iloc[:,1:22]\n",
    "X1_MC_NO_train = MC_NO_train1.iloc[:,1:22]\n",
    "X2_MC_NO_train = MC_NO_train2.iloc[:,1:22]\n",
    "X3_MC_NO_train = MC_NO_train3.iloc[:,1:22]\n",
    "X4_MC_NO_train = MC_NO_train4.iloc[:,1:22]\n",
    "X5_MC_NO_train = MC_NO_train5.iloc[:,1:22]\n",
    "X6_MC_NO_train = MC_NO_train6.iloc[:,1:22]\n",
    "X7_MC_NO_train = MC_NO_train7.iloc[:,1:22]\n",
    "\n",
    "Y_MC_NO_test = MC_NO_test.iloc[:,-1]\n",
    "Y1_MC_NO_train = MC_NO_train1.iloc[:,-1]\n",
    "Y2_MC_NO_train = MC_NO_train2.iloc[:,-1]\n",
    "Y3_MC_NO_train = MC_NO_train3.iloc[:,-1]\n",
    "Y4_MC_NO_train = MC_NO_train4.iloc[:,-1]\n",
    "Y5_MC_NO_train = MC_NO_train5.iloc[:,-1]\n",
    "Y6_MC_NO_train = MC_NO_train6.iloc[:,-1]\n",
    "Y7_MC_NO_train = MC_NO_train7.iloc[:,-1]\n",
    "\n",
    "#######################################################\n",
    "# BC With Outliers\n",
    "#X_BC_test = BC_test.iloc[:,1:22]\n",
    "#X1_BC_train = BC_train1.iloc[:,1:22]\n",
    "#X2_BC_train = BC_train2.iloc[:,1:22]\n",
    "#X3_BC_train = BC_train3.iloc[:,1:22]\n",
    "#X4_BC_train = BC_train4.iloc[:,1:22]\n",
    "#X5_BC_train = BC_train5.iloc[:,1:22]\n",
    "\n",
    "\n",
    "#Y_BC_test = BC_test.iloc[:,-1]\n",
    "#Y1_BC_train = BC_train1.iloc[:,-1]\n",
    "#Y2_BC_train = BC_train2.iloc[:,-1]\n",
    "#Y3_BC_train = BC_train3.iloc[:,-1]\n",
    "#Y4_BC_train = BC_train4.iloc[:,-1]\n",
    "#Y5_BC_train = BC_train5.iloc[:,-1]\n",
    "\n",
    "#######################################################\n",
    "# BC No Outliers\n",
    "X_BC_NO_test = BC_NO_test.iloc[:,1:22]\n",
    "X1_BC_NO_train = BC_NO_train1.iloc[:,1:22]\n",
    "X2_BC_NO_train = BC_NO_train2.iloc[:,1:22]\n",
    "X3_BC_NO_train = BC_NO_train3.iloc[:,1:22]\n",
    "X4_BC_NO_train = BC_NO_train4.iloc[:,1:22]\n",
    "X5_BC_NO_train = BC_NO_train5.iloc[:,1:22]\n",
    "\n",
    "\n",
    "Y_BC_NO_test = BC_NO_test.iloc[:,-1]\n",
    "Y1_BC_NO_train = BC_NO_train1.iloc[:,-1]\n",
    "Y2_BC_NO_train = BC_NO_train2.iloc[:,-1]\n",
    "Y3_BC_NO_train = BC_NO_train3.iloc[:,-1]\n",
    "Y4_BC_NO_train = BC_NO_train4.iloc[:,-1]\n",
    "Y5_BC_NO_train = BC_NO_train5.iloc[:,-1]"
   ]
  },
  {
   "cell_type": "markdown",
   "id": "f1b8b035-2576-4a15-895c-3364a85be20b",
   "metadata": {},
   "source": [
    "# Scale Data"
   ]
  },
  {
   "cell_type": "code",
   "execution_count": 7,
   "id": "3493b6e3-f455-4051-91ba-e49f133a07a5",
   "metadata": {},
   "outputs": [],
   "source": [
    "scaler = StandardScaler()\n",
    "\n",
    "#scaler.fit(X_MC_test)\n",
    "#X_MC_test = scaler.transform(X_MC_test)\n",
    "#scaler.fit(X1_MC_train)\n",
    "#X1_MC_train = scaler.transform(X1_MC_train)\n",
    "#scaler.fit(X2_MC_train)\n",
    "#X2_MC_train = scaler.transform(X2_MC_train)\n",
    "#scaler.fit(X3_MC_train)\n",
    "#X3_MC_train = scaler.transform(X3_MC_train)\n",
    "#scaler.fit(X4_MC_train)\n",
    "#X4_MC_train = scaler.transform(X4_MC_train)\n",
    "#scaler.fit(X5_MC_train)\n",
    "#X5_MC_train = scaler.transform(X5_MC_train)\n",
    "#scaler.fit(X6_MC_train)\n",
    "#X6_MC_train = scaler.transform(X6_MC_train)\n",
    "#scaler.fit(X7_MC_train)\n",
    "#X7_MC_train = scaler.transform(X7_MC_train)\n",
    "\n",
    "scaler.fit(X_MC_NO_test)\n",
    "X_MC_NO_test = scaler.transform(X_MC_NO_test)\n",
    "scaler.fit(X1_MC_NO_train)\n",
    "X1_MC_NO_train = scaler.transform(X1_MC_NO_train)\n",
    "scaler.fit(X2_MC_NO_train)\n",
    "X2_MC_NO_train = scaler.transform(X2_MC_NO_train)\n",
    "scaler.fit(X3_MC_NO_train)\n",
    "X3_MC_NO_train = scaler.transform(X3_MC_NO_train)\n",
    "scaler.fit(X4_MC_NO_train)\n",
    "X4_MC_NO_train = scaler.transform(X4_MC_NO_train)\n",
    "scaler.fit(X5_MC_NO_train)\n",
    "X5_MC_NO_train = scaler.transform(X5_MC_NO_train)\n",
    "scaler.fit(X6_MC_NO_train)\n",
    "X6_MC_NO_train = scaler.transform(X6_MC_NO_train)\n",
    "scaler.fit(X7_MC_NO_train)\n",
    "X7_MC_NO_train = scaler.transform(X7_MC_NO_train)\n",
    "\n",
    "#scaler.fit(X_BC_test)\n",
    "#X_BC_test = scaler.transform(X_BC_test)\n",
    "#scaler.fit(X1_BC_train)\n",
    "#X1_BC_train = scaler.transform(X1_BC_train)\n",
    "#scaler.fit(X2_BC_train)\n",
    "#X2_BC_train = scaler.transform(X2_BC_train)\n",
    "#scaler.fit(X3_BC_train)\n",
    "#X3_BC_train = scaler.transform(X3_BC_train)\n",
    "#scaler.fit(X4_BC_train)\n",
    "#X4_BC_train = scaler.transform(X4_BC_train)\n",
    "#scaler.fit(X5_BC_train)\n",
    "#X5_BC_train = scaler.transform(X5_BC_train)\n",
    "\n",
    "scaler.fit(X_BC_NO_test)\n",
    "X_BC_NO_test = scaler.transform(X_BC_NO_test)\n",
    "scaler.fit(X1_BC_NO_train)\n",
    "X1_BC_NO_train = scaler.transform(X1_BC_NO_train)\n",
    "scaler.fit(X2_BC_NO_train)\n",
    "X2_BC_NO_train = scaler.transform(X2_BC_NO_train)\n",
    "scaler.fit(X3_BC_NO_train)\n",
    "X3_BC_NO_train = scaler.transform(X3_BC_NO_train)\n",
    "scaler.fit(X4_BC_NO_train)\n",
    "X4_BC_NO_train = scaler.transform(X4_BC_NO_train)\n",
    "scaler.fit(X5_BC_NO_train)\n",
    "X5_BC_NO_train = scaler.transform(X5_BC_NO_train)\n"
   ]
  },
  {
   "cell_type": "markdown",
   "id": "33c4512b-d39d-49c2-b9a2-872fe361c31f",
   "metadata": {},
   "source": [
    "# Create Models"
   ]
  },
  {
   "cell_type": "code",
   "execution_count": 8,
   "id": "21159c76-fa7f-4d07-ae2d-b53c9560ec09",
   "metadata": {},
   "outputs": [],
   "source": [
    "#ANN_MC_1 =  MLPClassifier(solver='adam', alpha=1e-4, hidden_layer_sizes=(10,3), random_state=1, max_iter=2000)\n",
    "#ANN_MC_2 =  MLPClassifier(solver='adam', alpha=1e-4, hidden_layer_sizes=(10,3), random_state=1, max_iter=2000)\n",
    "#ANN_MC_3 =  MLPClassifier(solver='adam', alpha=1e-4, hidden_layer_sizes=(10,3), random_state=1, max_iter=2000)\n",
    "#ANN_MC_4 =  MLPClassifier(solver='adam', alpha=1e-4, hidden_layer_sizes=(10,3), random_state=1, max_iter=2000)\n",
    "#ANN_MC_5 =  MLPClassifier(solver='adam', alpha=1e-4, hidden_layer_sizes=(10,3), random_state=1, max_iter=2000)\n",
    "#ANN_MC_6 =  MLPClassifier(solver='adam', alpha=1e-4, hidden_layer_sizes=(10,3), random_state=1, max_iter=2000)\n",
    "#ANN_MC_7 =  MLPClassifier(solver='adam', alpha=1e-4, hidden_layer_sizes=(10,3), random_state=1, max_iter=2000)\n",
    "\n",
    "ANN_MC_NO_1 =  MLPClassifier(solver='adam', alpha=1e-4, hidden_layer_sizes=(10,3), random_state=1, max_iter=2000)\n",
    "ANN_MC_NO_2 =  MLPClassifier(solver='adam', alpha=1e-4, hidden_layer_sizes=(10,3), random_state=1, max_iter=2000)\n",
    "ANN_MC_NO_3 =  MLPClassifier(solver='adam', alpha=1e-4, hidden_layer_sizes=(10,3), random_state=1, max_iter=2000)\n",
    "ANN_MC_NO_4 =  MLPClassifier(solver='adam', alpha=1e-4, hidden_layer_sizes=(10,3), random_state=1, max_iter=2000)\n",
    "ANN_MC_NO_5 =  MLPClassifier(solver='adam', alpha=1e-4, hidden_layer_sizes=(10,3), random_state=1, max_iter=2000)\n",
    "ANN_MC_NO_6 =  MLPClassifier(solver='adam', alpha=1e-4, hidden_layer_sizes=(10,3), random_state=1, max_iter=2000)\n",
    "ANN_MC_NO_7 =  MLPClassifier(solver='adam', alpha=1e-4, hidden_layer_sizes=(10,3), random_state=1, max_iter=2000)\n",
    "\n",
    "#ANN_BC_1 =  MLPClassifier(solver='adam', alpha=1e-4, hidden_layer_sizes=(10,3), random_state=1, max_iter=2000)\n",
    "#ANN_BC_2 =  MLPClassifier(solver='adam', alpha=1e-4, hidden_layer_sizes=(10,3), random_state=1, max_iter=2000)\n",
    "#ANN_BC_3 =  MLPClassifier(solver='adam', alpha=1e-4, hidden_layer_sizes=(10,3), random_state=1, max_iter=2000)\n",
    "#ANN_BC_4 =  MLPClassifier(solver='adam', alpha=1e-4, hidden_layer_sizes=(10,3), random_state=1, max_iter=2000)\n",
    "#ANN_BC_5 =  MLPClassifier(solver='adam', alpha=1e-4, hidden_layer_sizes=(10,3), random_state=1, max_iter=2000)\n",
    "\n",
    "ANN_BC_NO_1 =  MLPClassifier(solver='adam', alpha=1e-4, hidden_layer_sizes=(10,3), random_state=1, max_iter=2000)\n",
    "ANN_BC_NO_2 =  MLPClassifier(solver='adam', alpha=1e-4, hidden_layer_sizes=(10,3), random_state=1, max_iter=2000)\n",
    "ANN_BC_NO_3 =  MLPClassifier(solver='adam', alpha=1e-4, hidden_layer_sizes=(10,3), random_state=1, max_iter=2000)\n",
    "ANN_BC_NO_4 =  MLPClassifier(solver='adam', alpha=1e-4, hidden_layer_sizes=(10,3), random_state=1, max_iter=2000)\n",
    "ANN_BC_NO_5 =  MLPClassifier(solver='adam', alpha=1e-4, hidden_layer_sizes=(10,3), random_state=1, max_iter=2000)"
   ]
  },
  {
   "cell_type": "markdown",
   "id": "9d1bfbb9-f067-49a1-ae6a-527ccdc4775a",
   "metadata": {},
   "source": [
    "# Train Models"
   ]
  },
  {
   "cell_type": "code",
   "execution_count": 9,
   "id": "d9ec39a2-7f2b-462c-8c68-4e204cf9c0c4",
   "metadata": {},
   "outputs": [
    {
     "data": {
      "text/plain": [
       "MLPClassifier(hidden_layer_sizes=(10, 3), max_iter=2000, random_state=1)"
      ]
     },
     "execution_count": 9,
     "metadata": {},
     "output_type": "execute_result"
    }
   ],
   "source": [
    "#ANN_MC_1.fit(X1_MC_train, Y1_MC_train)\n",
    "#ANN_MC_2.fit(X2_MC_train, Y2_MC_train)\n",
    "#ANN_MC_3.fit(X3_MC_train, Y3_MC_train)\n",
    "#ANN_MC_4.fit(X4_MC_train, Y4_MC_train)\n",
    "#ANN_MC_5.fit(X5_MC_train, Y5_MC_train)\n",
    "#ANN_MC_6.fit(X6_MC_train, Y6_MC_train)\n",
    "#ANN_MC_7.fit(X7_MC_train, Y7_MC_train)\n",
    "\n",
    "ANN_MC_NO_1.fit(X1_MC_NO_train, Y1_MC_NO_train)\n",
    "ANN_MC_NO_2.fit(X2_MC_NO_train, Y2_MC_NO_train)\n",
    "ANN_MC_NO_3.fit(X3_MC_NO_train, Y3_MC_NO_train)\n",
    "ANN_MC_NO_4.fit(X4_MC_NO_train, Y4_MC_NO_train)\n",
    "ANN_MC_NO_5.fit(X5_MC_NO_train, Y5_MC_NO_train)\n",
    "ANN_MC_NO_6.fit(X6_MC_NO_train, Y6_MC_NO_train)\n",
    "ANN_MC_NO_7.fit(X7_MC_NO_train, Y7_MC_NO_train)\n",
    "\n",
    "#ANN_BC_1.fit(X1_BC_train, Y1_BC_train)\n",
    "#ANN_BC_2.fit(X2_BC_train, Y2_BC_train)\n",
    "#ANN_BC_3.fit(X3_BC_train, Y3_BC_train)\n",
    "#ANN_BC_4.fit(X4_BC_train, Y4_BC_train)\n",
    "#ANN_BC_5.fit(X5_BC_train, Y5_BC_train)\n",
    "\n",
    "ANN_BC_NO_1.fit(X1_BC_NO_train, Y1_BC_NO_train)\n",
    "ANN_BC_NO_2.fit(X2_BC_NO_train, Y2_BC_NO_train)\n",
    "ANN_BC_NO_3.fit(X3_BC_NO_train, Y3_BC_NO_train)\n",
    "ANN_BC_NO_4.fit(X4_BC_NO_train, Y4_BC_NO_train)\n",
    "ANN_BC_NO_5.fit(X5_BC_NO_train, Y5_BC_NO_train)"
   ]
  },
  {
   "cell_type": "markdown",
   "id": "81fc86ad-3f18-4872-aebf-c31bbb7b8cf7",
   "metadata": {
    "tags": []
   },
   "source": [
    "# Make Predictions"
   ]
  },
  {
   "cell_type": "code",
   "execution_count": 11,
   "id": "914a6a63-765f-478e-b60c-c55fcc0ce1ef",
   "metadata": {},
   "outputs": [],
   "source": [
    "labelEnc = LabelEncoder()\n",
    "#labelEnc.fit(Y_MC_test)\n",
    "#MC_Classifiers = [ANN_MC_1, ANN_MC_2, ANN_MC_3, ANN_MC_4, ANN_MC_5, ANN_MC_6, ANN_MC_7]\n",
    "#MC_Predictions = np.asarray([clf.predict_proba(X_MC_test) for clf in MC_Classifiers])\n",
    "#MC_Predictions = np.average(MC_Predictions, axis=0)\n",
    "#MC_Predictions = labelEnc.inverse_transform(np.argmax(MC_Predictions, axis=1))\n",
    "\n",
    "labelEnc.fit(Y_MC_NO_test)\n",
    "MC_NO_Classifiers = [ANN_MC_NO_1, ANN_MC_NO_2, ANN_MC_NO_3, ANN_MC_NO_4, ANN_MC_NO_5, ANN_MC_NO_6, ANN_MC_NO_7]\n",
    "MC_NO_Predictions = np.asarray([clf.predict_proba(X_MC_NO_test) for clf in MC_NO_Classifiers])\n",
    "MC_NO_Predictions = np.average(MC_NO_Predictions, axis=0)\n",
    "MC_NO_Predictions = labelEnc.inverse_transform(np.argmax(MC_NO_Predictions, axis=1))\n",
    "\n",
    "\n",
    "#labelEnc.fit(Y_BC_test)\n",
    "#BC_Classifiers = [ANN_BC_1, ANN_BC_2, ANN_BC_3, ANN_BC_4, ANN_BC_5]\n",
    "#BC_Predictions = np.asarray([clf.predict_proba(X_BC_test) for clf in BC_Classifiers])\n",
    "#BC_Predictions = np.average(BC_Predictions, axis=0)\n",
    "#BC_Predictions = labelEnc.inverse_transform(np.argmax(BC_Predictions, axis=1))\n",
    "\n",
    "labelEnc.fit(Y_BC_NO_test)\n",
    "BC_NO_Classifiers = [ANN_BC_NO_1, ANN_BC_NO_2, ANN_BC_NO_3, ANN_BC_NO_4, ANN_BC_NO_5]\n",
    "BC_NO_Predictions = np.asarray([clf.predict_proba(X_BC_NO_test) for clf in BC_NO_Classifiers])\n",
    "BC_NO_Predictions = np.average(BC_NO_Predictions, axis=0)\n",
    "BC_NO_Predictions = labelEnc.inverse_transform(np.argmax(BC_NO_Predictions, axis=1))\n"
   ]
  },
  {
   "cell_type": "code",
   "execution_count": 12,
   "id": "c228e882-be19-4875-a1a5-982640b251a7",
   "metadata": {},
   "outputs": [
    {
     "name": "stdout",
     "output_type": "stream",
     "text": [
      "0.7062937062937062\n",
      "0.6459227467811158\n"
     ]
    }
   ],
   "source": [
    "#MC_ACC = accuracy_score(MC_Predictions, Y_MC_test)\n",
    "#print(MC_ACC)\n",
    "\n",
    "MC_NO_ACC = accuracy_score(MC_NO_Predictions, Y_MC_NO_test)\n",
    "print(MC_NO_ACC)\n",
    "\n",
    "#BC_ACC = accuracy_score(BC_Predictions, Y_BC_test)\n",
    "#print(BC_ACC)\n",
    "\n",
    "BC_NO_ACC = accuracy_score(BC_NO_Predictions, Y_BC_NO_test)\n",
    "print(BC_NO_ACC)"
   ]
  },
  {
   "cell_type": "code",
   "execution_count": 14,
   "id": "5ef2f11b-7c5b-4412-800c-4652e3ef431d",
   "metadata": {},
   "outputs": [
    {
     "data": {
      "image/png": "[encoded data removed]",
      "text/plain": [
       "<Figure size 432x288 with 1 Axes>"
      ]
     },
     "metadata": {
      "needs_background": "light"
     },
     "output_type": "display_data"
    }
   ],
   "source": [
    "fig, ax = plt.subplots()\n",
    "\n",
    "bar_names = ['MC', 'BC']\n",
    "accuracies = [MC_NO_ACC, BC_NO_ACC]\n",
    "bar_labels = ['Multiclass', 'Binary Class']\n",
    "bar_colors = ['tab:red', 'tab:blue']\n",
    "\n",
    "ax.bar(bar_names, accuracies, label=bar_labels, color=bar_colors)\n",
    "\n",
    "ax.set_ylabel(\"Model Accuracy\")\n",
    "ax.set_title(\"Accuracy of different ANN models using Ensemble Learning\")\n",
    "plt.ylim(0,1.0)\n",
    "\n",
    "\n",
    "plt.show()"
   ]
  },
  {
   "cell_type": "code",
   "execution_count": null,
   "id": "a65be441-4bdd-460b-9567-d4b68e9e0dbf",
   "metadata": {},
   "outputs": [],
   "source": []
  }
 ],
 "metadata": {
  "kernelspec": {
   "display_name": "Python 3",
   "language": "python",
   "name": "python3"
  },
  "language_info": {
   "codemirror_mode": {
    "name": "ipython",
    "version": 3
   },
   "file_extension": ".py",
   "mimetype": "text/x-python",
   "name": "python",
   "nbconvert_exporter": "python",
   "pygments_lexer": "ipython3",
   "version": "3.8.8"
  }
 },
 "nbformat": 4,
 "nbformat_minor": 5
}
