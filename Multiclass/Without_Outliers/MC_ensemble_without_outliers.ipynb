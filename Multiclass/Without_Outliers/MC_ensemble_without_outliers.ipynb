{
  "nbformat": 4,
  "nbformat_minor": 0,
  "metadata": {
    "colab": {
      "provenance": []
    },
    "kernelspec": {
      "name": "python3",
      "display_name": "Python 3"
    },
    "language_info": {
      "name": "python"
    }
  },
  "cells": [
    {
      "cell_type": "code",
      "execution_count": 13,
      "metadata": {
        "colab": {
          "base_uri": "https://localhost:8080/"
        },
        "id": "sQqIeQ8aaOE2",
        "outputId": "903645fc-3ae5-4183-90b9-8c7bc5458cb4"
      },
      "outputs": [
        {
          "output_type": "stream",
          "name": "stdout",
          "text": [
            "\n",
            "Training on Dataset 1\n",
            "\n",
            "Training on Dataset 2\n",
            "\n",
            "Training on Dataset 3\n",
            "\n",
            "Training on Dataset 4\n",
            "\n",
            "Training on Dataset 5\n",
            "\n",
            "Training on Dataset 6\n",
            "\n",
            "Results for Ensemble Model on Common Test Set:\n",
            "Accuracy: 100.00%\n",
            "Confusion Matrix:\n",
            "[[213   0   0]\n",
            " [  0 140   0]\n",
            " [  0   0  76]]\n",
            "Classification Report:\n",
            "              precision    recall  f1-score   support\n",
            "\n",
            "           0       1.00      1.00      1.00       213\n",
            "           1       1.00      1.00      1.00       140\n",
            "           2       1.00      1.00      1.00        76\n",
            "\n",
            "    accuracy                           1.00       429\n",
            "   macro avg       1.00      1.00      1.00       429\n",
            "weighted avg       1.00      1.00      1.00       429\n",
            "\n"
          ]
        }
      ],
      "source": [
        "import pandas as pd\n",
        "from sklearn.svm import SVC\n",
        "from sklearn.metrics import accuracy_score, classification_report, confusion_matrix\n",
        "from sklearn.preprocessing import LabelEncoder\n",
        "from sklearn.ensemble import VotingClassifier\n",
        "\n",
        "# Set the data paths\n",
        "dataset_paths = ['training_set_1.csv', 'training_set_2.csv', 'training_set_3.csv', 'training_set_4.csv', 'training_set_5.csv', 'training_set_6.csv']\n",
        "test_set_path = 'testing_set.csv'\n",
        "\n",
        "# Initialize a list to store individual models\n",
        "models = []\n",
        "\n",
        "# Loop over each dataset\n",
        "for i, dataset_path in enumerate(dataset_paths, start=1):\n",
        "    print(f\"\\nTraining on Dataset {i}\")\n",
        "\n",
        "    # Load the dataset using pandas\n",
        "    df = pd.read_csv(dataset_path)\n",
        "\n",
        "    # Extract features (X) and target variable (y)\n",
        "    X = df.drop('target', axis=1)\n",
        "    y = df['target']\n",
        "\n",
        "    # Encode the target variable if it contains string labels\n",
        "    label_encoder = LabelEncoder()\n",
        "    y = label_encoder.fit_transform(y)\n",
        "\n",
        "    # Create an SVM model\n",
        "    model = SVC(kernel='linear', C=1.0, probability=True)\n",
        "\n",
        "    # Train the model\n",
        "    model.fit(X, y)\n",
        "\n",
        "    # Append the model to the list\n",
        "    models.append(('model{}'.format(i), model))\n",
        "\n",
        "# Create an ensemble of models using majority voting\n",
        "ensemble_model = VotingClassifier(estimators=models, voting='hard')\n",
        "\n",
        "# Load the common test set\n",
        "common_test_df = pd.read_csv(test_set_path)\n",
        "common_X_test = common_test_df.drop('target', axis=1)\n",
        "common_y_test = label_encoder.transform(common_test_df['target'])\n",
        "\n",
        "# Predict using the ensemble model\n",
        "ensemble_model.fit(common_X_test, common_y_test)\n",
        "y_pred_ensemble = ensemble_model.predict(common_X_test)\n",
        "\n",
        "# Evaluate the ensemble model\n",
        "accuracy_ensemble = accuracy_score(common_y_test, y_pred_ensemble)\n",
        "conf_matrix_ensemble = confusion_matrix(common_y_test, y_pred_ensemble)\n",
        "classification_rep_ensemble = classification_report(common_y_test, y_pred_ensemble)\n",
        "\n",
        "# Display results for the ensemble model\n",
        "print(\"\\nResults for Ensemble Model on Common Test Set:\")\n",
        "print(f\"Accuracy: {accuracy_ensemble * 100:.2f}%\")\n",
        "print(\"Confusion Matrix:\")\n",
        "print(conf_matrix_ensemble)\n",
        "print(\"Classification Report:\")\n",
        "print(classification_rep_ensemble)\n",
        "\n"
      ]
    }
  ]
}